{
  "nbformat": 4,
  "nbformat_minor": 0,
  "metadata": {
    "colab": {
      "provenance": [],
      "authorship_tag": "ABX9TyO+QH5MqV/6gSUiRwS2h0FW",
      "include_colab_link": true
    },
    "kernelspec": {
      "name": "python3",
      "display_name": "Python 3"
    },
    "language_info": {
      "name": "python"
    }
  },
  "cells": [
    {
      "cell_type": "markdown",
      "metadata": {
        "id": "view-in-github",
        "colab_type": "text"
      },
      "source": [
        "<a href=\"https://colab.research.google.com/github/shru1010/30-Days-ML-challenge/blob/main/CIFAR_10_baseline.ipynb\" target=\"_parent\"><img src=\"https://colab.research.google.com/assets/colab-badge.svg\" alt=\"Open In Colab\"/></a>"
      ]
    },
    {
      "cell_type": "code",
      "execution_count": null,
      "metadata": {
        "id": "lYfv5B10Gps9"
      },
      "outputs": [],
      "source": [
        "import tensorflow as tf\n",
        "from tensorflow import keras\n",
        "from keras import datasets\n",
        "from keras import layers\n",
        "from keras import models\n",
        "import matplotlib.pyplot as plt\n",
        "import numpy as np"
      ]
    },
    {
      "cell_type": "markdown",
      "source": [
        "Preprocessing"
      ],
      "metadata": {
        "id": "Tvad9UuDHQJT"
      }
    },
    {
      "cell_type": "code",
      "source": [
        "(X_train,y_train),(X_test,y_test) = datasets.cifar10.load_data()"
      ],
      "metadata": {
        "colab": {
          "base_uri": "https://localhost:8080/"
        },
        "id": "_ySNYVr-HOob",
        "outputId": "31a8573a-efde-4777-c9e0-fd0e71d3876a"
      },
      "execution_count": null,
      "outputs": [
        {
          "output_type": "stream",
          "name": "stdout",
          "text": [
            "Downloading data from https://www.cs.toronto.edu/~kriz/cifar-10-python.tar.gz\n",
            "170498071/170498071 [==============================] - 2s 0us/step\n"
          ]
        }
      ]
    },
    {
      "cell_type": "code",
      "source": [
        "X_train.shape"
      ],
      "metadata": {
        "colab": {
          "base_uri": "https://localhost:8080/"
        },
        "id": "aSDzp2flHd6C",
        "outputId": "77457c39-3c1f-4e17-defd-3be3c4465a30"
      },
      "execution_count": null,
      "outputs": [
        {
          "output_type": "execute_result",
          "data": {
            "text/plain": [
              "(50000, 32, 32, 3)"
            ]
          },
          "metadata": {},
          "execution_count": 3
        }
      ]
    },
    {
      "cell_type": "code",
      "source": [
        "y_train.shape"
      ],
      "metadata": {
        "colab": {
          "base_uri": "https://localhost:8080/"
        },
        "id": "YbOgFKiOHgW5",
        "outputId": "c0bbb921-9eb6-4c90-b427-3d07ceb00aa2"
      },
      "execution_count": null,
      "outputs": [
        {
          "output_type": "execute_result",
          "data": {
            "text/plain": [
              "(50000, 1)"
            ]
          },
          "metadata": {},
          "execution_count": 4
        }
      ]
    },
    {
      "cell_type": "code",
      "source": [
        "#image shape\n",
        "X_train[0].shape"
      ],
      "metadata": {
        "colab": {
          "base_uri": "https://localhost:8080/"
        },
        "id": "jnHH3LovHjz-",
        "outputId": "b8542e6e-371b-423e-c66d-312b554048be"
      },
      "execution_count": null,
      "outputs": [
        {
          "output_type": "execute_result",
          "data": {
            "text/plain": [
              "(32, 32, 3)"
            ]
          },
          "metadata": {},
          "execution_count": 7
        }
      ]
    },
    {
      "cell_type": "markdown",
      "source": [
        "data cleaning and norm"
      ],
      "metadata": {
        "id": "P6QchU6XHuY-"
      }
    },
    {
      "cell_type": "code",
      "source": [
        "X_train = X_train/255\n",
        "X_test = X_test/255"
      ],
      "metadata": {
        "id": "0ELV4_EcHoAL"
      },
      "execution_count": null,
      "outputs": []
    },
    {
      "cell_type": "markdown",
      "source": [
        "train model"
      ],
      "metadata": {
        "id": "MTC-i0iKH8Ee"
      }
    },
    {
      "cell_type": "code",
      "source": [
        "ann = keras.Sequential([\n",
        "    #flatten\n",
        "    layers.Flatten(input_shape = (32, 32, 3)),\n",
        "    #hidden-relu\n",
        "    layers.Dense(2000,activation = 'relu'),\n",
        "    layers.Dense(1000,activation = 'relu'),\n",
        "    layers.Dense(10,activation = 'softmax')\n",
        "])"
      ],
      "metadata": {
        "id": "kaQZpNxCH1gX"
      },
      "execution_count": null,
      "outputs": []
    },
    {
      "cell_type": "markdown",
      "source": [
        "compile model"
      ],
      "metadata": {
        "id": "sF-gGdPqJWHL"
      }
    },
    {
      "cell_type": "code",
      "source": [
        "from keras.mixed_precision.loss_scale_optimizer import optimizer\n",
        "ann.compile(\n",
        "    optimizer = 'SGD',\n",
        "    loss = 'sparse_categorical_crossentropy',\n",
        "    metrics = ['accuracy']\n",
        ")"
      ],
      "metadata": {
        "id": "5GgcMCZaJVve"
      },
      "execution_count": null,
      "outputs": []
    },
    {
      "cell_type": "code",
      "source": [
        "ann.fit(X_train,y_train ,epochs = 5)"
      ],
      "metadata": {
        "colab": {
          "base_uri": "https://localhost:8080/"
        },
        "id": "trKG9kVZJrat",
        "outputId": "21ff5425-afc4-4793-8a86-de610eedef55"
      },
      "execution_count": null,
      "outputs": [
        {
          "output_type": "stream",
          "name": "stdout",
          "text": [
            "Epoch 1/5\n",
            "1563/1563 [==============================] - 79s 50ms/step - loss: 1.8216 - accuracy: 0.3509\n",
            "Epoch 2/5\n",
            "1563/1563 [==============================] - 78s 50ms/step - loss: 1.6338 - accuracy: 0.4222\n",
            "Epoch 3/5\n",
            "1563/1563 [==============================] - 78s 50ms/step - loss: 1.5527 - accuracy: 0.4514\n",
            "Epoch 4/5\n",
            "1563/1563 [==============================] - 79s 51ms/step - loss: 1.4935 - accuracy: 0.4720\n",
            "Epoch 5/5\n",
            "1563/1563 [==============================] - 78s 50ms/step - loss: 1.4448 - accuracy: 0.4907\n"
          ]
        },
        {
          "output_type": "execute_result",
          "data": {
            "text/plain": [
              "<keras.callbacks.History at 0x7fc6a220bbe0>"
            ]
          },
          "metadata": {},
          "execution_count": 19
        }
      ]
    },
    {
      "cell_type": "code",
      "source": [
        "cnn = keras.Sequential([\n",
        "    #feature extraction\n",
        "    layers.Conv2D(filters = 30,kernel_size = (2,2),strides = 2,activation='relu' ),\n",
        "    layers.MaxPool2D(pool_size = (2,2)),\n",
        "    layers.Conv2D(filters = 60,kernel_size = (2,2),strides = 2,activation='relu' ),\n",
        "    layers.MaxPool2D(pool_size = (2,2)), \n",
        "    #dnn\n",
        "    #flatten\n",
        "    layers.Flatten(input_shape = (32, 32, 3)),\n",
        "    #hidden-relu\n",
        "    layers.Dense(100,activation = 'relu'),\n",
        "    layers.Dense(10,activation = 'softmax')\n",
        "])\n",
        "from keras.mixed_precision.loss_scale_optimizer import optimizer\n",
        "cnn.compile(\n",
        "    optimizer = 'SGD',\n",
        "    loss = 'sparse_categorical_crossentropy',\n",
        "    metrics = ['accuracy']\n",
        ")\n",
        "cnn.fit(X_train,y_train ,epochs = 5)"
      ],
      "metadata": {
        "colab": {
          "base_uri": "https://localhost:8080/"
        },
        "id": "4cKoDs5VJ1Qh",
        "outputId": "839bcf22-16d9-4f56-c21c-820032894991"
      },
      "execution_count": null,
      "outputs": [
        {
          "output_type": "stream",
          "name": "stdout",
          "text": [
            "Epoch 1/5\n",
            "1563/1563 [==============================] - 15s 9ms/step - loss: 2.2245 - accuracy: 0.1812\n",
            "Epoch 2/5\n",
            "1563/1563 [==============================] - 15s 9ms/step - loss: 2.0087 - accuracy: 0.2672\n",
            "Epoch 3/5\n",
            "1563/1563 [==============================] - 14s 9ms/step - loss: 1.8906 - accuracy: 0.3229\n",
            "Epoch 4/5\n",
            "1563/1563 [==============================] - 14s 9ms/step - loss: 1.7987 - accuracy: 0.3549\n",
            "Epoch 5/5\n",
            "1563/1563 [==============================] - 14s 9ms/step - loss: 1.7329 - accuracy: 0.3774\n"
          ]
        },
        {
          "output_type": "execute_result",
          "data": {
            "text/plain": [
              "<keras.callbacks.History at 0x7fc6a1fe1600>"
            ]
          },
          "metadata": {},
          "execution_count": 20
        }
      ]
    }
  ]
}
